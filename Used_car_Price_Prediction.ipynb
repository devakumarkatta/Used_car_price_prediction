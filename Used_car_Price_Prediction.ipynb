{
  "cells": [
    {
      "cell_type": "code",
      "execution_count": null,
      "metadata": {
        "colab": {
          "base_uri": "https://localhost:8080/"
        },
        "id": "VK8_BWZvIPrj",
        "outputId": "05a5b7c3-ead2-4c2e-930d-4bb675fbf3b1"
      },
      "outputs": [
        {
          "output_type": "stream",
          "name": "stdout",
          "text": [
            "Mounted at /content/drive\n"
          ]
        }
      ],
      "source": [
        "# Mount your Google Drive to access files stored there\n",
        "# This step is necessary if you're working in Google Colab and want to load/save files from your Drive\n",
        "\n",
        "from google.colab import drive\n",
        "\n",
        "# Mount the Drive to the '/content/drive' directory\n",
        "# You'll be prompted to authorize access\n",
        "drive.mount('/content/drive')\n"
      ]
    },
    {
      "cell_type": "code",
      "execution_count": null,
      "metadata": {
        "colab": {
          "base_uri": "https://localhost:8080/"
        },
        "id": "4JpgTXl9IXNb",
        "outputId": "8849af02-cd8a-4705-c55f-276e5ca69352"
      },
      "outputs": [
        {
          "output_type": "stream",
          "name": "stdout",
          "text": [
            "/content/drive/MyDrive/kaggle/kaggle.json\n"
          ]
        }
      ],
      "source": [
        "!find /content/drive/MyDrive -name \"kaggle.json\""
      ]
    },
    {
      "cell_type": "code",
      "execution_count": null,
      "metadata": {
        "colab": {
          "base_uri": "https://localhost:8080/"
        },
        "id": "zDTpQrfpIZW9",
        "outputId": "34d379f0-9ebc-491a-b2ae-7a44123c9252"
      },
      "outputs": [
        {
          "output_type": "stream",
          "name": "stdout",
          "text": [
            "Dataset URL: https://www.kaggle.com/datasets/ananaymital/us-used-cars-dataset\n",
            "License(s): copyright-authors\n"
          ]
        }
      ],
      "source": [
        "# making the .kaggle folder if it doesn’t already exist\n",
        "!mkdir -p ~/.kaggle\n",
        "\n",
        "# copying kaggle.json file from Drive to the .kaggle folder\n",
        "!cp /content/drive/MyDrive/kaggle/kaggle.json ~/.kaggle/\n",
        "\n",
        "# setting the right permissions so kaggle.json works properly\n",
        "!chmod 600 ~/.kaggle/kaggle.json\n",
        "\n",
        "# downloading the dataset from Kaggle using the API\n",
        "!kaggle datasets download -d ananaymital/us-used-cars-dataset\n"
      ]
    },
    {
      "cell_type": "code",
      "execution_count": null,
      "metadata": {
        "colab": {
          "base_uri": "https://localhost:8080/"
        },
        "id": "JkyJ7PWLIZsw",
        "outputId": "1a15a6a3-6966-473e-9429-631ded52f2f9"
      },
      "outputs": [
        {
          "output_type": "stream",
          "name": "stdout",
          "text": [
            "used_cars_data.csv\n"
          ]
        }
      ],
      "source": [
        "!unzip -q us-used-cars-dataset.zip -d used_cars_data\n",
        "\n",
        "# Check the contents of the folder\n",
        "!ls used_cars_data\n"
      ]
    },
    {
      "cell_type": "code",
      "execution_count": null,
      "metadata": {
        "id": "yTPt9b_DIZ3O"
      },
      "outputs": [],
      "source": [
        "# creating a Spark session for the project\n",
        "from pyspark.sql import SparkSession\n",
        "\n",
        "# setting app name and driver memory, then starting the session\n",
        "spark = SparkSession.builder \\\n",
        "    .appName(\"UsedCarPricePrediction\") \\\n",
        "    .config(\"spark.driver.memory\", \"8g\") \\\n",
        "    .getOrCreate()\n"
      ]
    },
    {
      "cell_type": "code",
      "source": [
        "import zipfile\n",
        "with zipfile.ZipFile('us-used-cars-dataset.zip', 'r') as zip_ref:\n",
        "    zip_ref.extractall('us-used-cars-dataset')"
      ],
      "metadata": {
        "id": "k_-a0BjvXAk6"
      },
      "execution_count": null,
      "outputs": []
    },
    {
      "cell_type": "code",
      "execution_count": null,
      "metadata": {
        "colab": {
          "base_uri": "https://localhost:8080/"
        },
        "id": "W57yb0huIZ99",
        "outputId": "cf07216b-0300-4472-853e-68eabca476f7"
      },
      "outputs": [
        {
          "output_type": "stream",
          "name": "stdout",
          "text": [
            "root\n",
            " |-- vin: string (nullable = true)\n",
            " |-- back_legroom: string (nullable = true)\n",
            " |-- bed: string (nullable = true)\n",
            " |-- bed_height: string (nullable = true)\n",
            " |-- bed_length: string (nullable = true)\n",
            " |-- body_type: string (nullable = true)\n",
            " |-- cabin: string (nullable = true)\n",
            " |-- city: string (nullable = true)\n",
            " |-- city_fuel_economy: string (nullable = true)\n",
            " |-- combine_fuel_economy: string (nullable = true)\n",
            " |-- daysonmarket: string (nullable = true)\n",
            " |-- dealer_zip: string (nullable = true)\n",
            " |-- description: string (nullable = true)\n",
            " |-- engine_cylinders: string (nullable = true)\n",
            " |-- engine_displacement: string (nullable = true)\n",
            " |-- engine_type: string (nullable = true)\n",
            " |-- exterior_color: string (nullable = true)\n",
            " |-- fleet: string (nullable = true)\n",
            " |-- frame_damaged: string (nullable = true)\n",
            " |-- franchise_dealer: string (nullable = true)\n",
            " |-- franchise_make: string (nullable = true)\n",
            " |-- front_legroom: string (nullable = true)\n",
            " |-- fuel_tank_volume: string (nullable = true)\n",
            " |-- fuel_type: string (nullable = true)\n",
            " |-- has_accidents: string (nullable = true)\n",
            " |-- height: string (nullable = true)\n",
            " |-- highway_fuel_economy: string (nullable = true)\n",
            " |-- horsepower: string (nullable = true)\n",
            " |-- interior_color: string (nullable = true)\n",
            " |-- isCab: string (nullable = true)\n",
            " |-- is_certified: string (nullable = true)\n",
            " |-- is_cpo: string (nullable = true)\n",
            " |-- is_new: string (nullable = true)\n",
            " |-- is_oemcpo: string (nullable = true)\n",
            " |-- latitude: string (nullable = true)\n",
            " |-- length: string (nullable = true)\n",
            " |-- listed_date: string (nullable = true)\n",
            " |-- listing_color: string (nullable = true)\n",
            " |-- listing_id: string (nullable = true)\n",
            " |-- longitude: string (nullable = true)\n",
            " |-- main_picture_url: string (nullable = true)\n",
            " |-- major_options: string (nullable = true)\n",
            " |-- make_name: string (nullable = true)\n",
            " |-- maximum_seating: string (nullable = true)\n",
            " |-- mileage: string (nullable = true)\n",
            " |-- model_name: string (nullable = true)\n",
            " |-- owner_count: string (nullable = true)\n",
            " |-- power: string (nullable = true)\n",
            " |-- price: string (nullable = true)\n",
            " |-- salvage: string (nullable = true)\n",
            " |-- savings_amount: string (nullable = true)\n",
            " |-- seller_rating: string (nullable = true)\n",
            " |-- sp_id: string (nullable = true)\n",
            " |-- sp_name: string (nullable = true)\n",
            " |-- theft_title: string (nullable = true)\n",
            " |-- torque: string (nullable = true)\n",
            " |-- transmission: string (nullable = true)\n",
            " |-- transmission_display: string (nullable = true)\n",
            " |-- trimId: string (nullable = true)\n",
            " |-- trim_name: string (nullable = true)\n",
            " |-- vehicle_damage_category: string (nullable = true)\n",
            " |-- wheel_system: string (nullable = true)\n",
            " |-- wheel_system_display: string (nullable = true)\n",
            " |-- wheelbase: string (nullable = true)\n",
            " |-- width: string (nullable = true)\n",
            " |-- year: string (nullable = true)\n",
            "\n",
            "+-----------------+------------+----+----------+----------+---------------+-----+--------+-----------------+--------------------+------------+----------+--------------------+----------------+-------------------+-----------+--------------+-----+-------------+----------------+--------------+-------------+----------------+---------+-------------+-------+--------------------+----------+--------------------+-----+------------+------+------+---------+--------+--------+-----------+-------------+----------+---------+--------------------+--------------------+----------+---------------+-------+---------------+-----------+------------------+-------+-------+--------------+-------------+------+-------------------+-----------+--------------------+------------+--------------------+------+------------+-----------------------+------------+--------------------+---------+-------+----+\n",
            "|              vin|back_legroom| bed|bed_height|bed_length|      body_type|cabin|    city|city_fuel_economy|combine_fuel_economy|daysonmarket|dealer_zip|         description|engine_cylinders|engine_displacement|engine_type|exterior_color|fleet|frame_damaged|franchise_dealer|franchise_make|front_legroom|fuel_tank_volume|fuel_type|has_accidents| height|highway_fuel_economy|horsepower|      interior_color|isCab|is_certified|is_cpo|is_new|is_oemcpo|latitude|  length|listed_date|listing_color|listing_id|longitude|    main_picture_url|       major_options| make_name|maximum_seating|mileage|     model_name|owner_count|             power|  price|salvage|savings_amount|seller_rating| sp_id|            sp_name|theft_title|              torque|transmission|transmission_display|trimId|   trim_name|vehicle_damage_category|wheel_system|wheel_system_display|wheelbase|  width|year|\n",
            "+-----------------+------------+----+----------+----------+---------------+-----+--------+-----------------+--------------------+------------+----------+--------------------+----------------+-------------------+-----------+--------------+-----+-------------+----------------+--------------+-------------+----------------+---------+-------------+-------+--------------------+----------+--------------------+-----+------------+------+------+---------+--------+--------+-----------+-------------+----------+---------+--------------------+--------------------+----------+---------------+-------+---------------+-----------+------------------+-------+-------+--------------+-------------+------+-------------------+-----------+--------------------+------------+--------------------+------+------------+-----------------------+------------+--------------------+---------+-------+----+\n",
            "|ZACNJABB5KPJ92081|     35.1 in|NULL|      NULL|      NULL|SUV / Crossover| NULL| Bayamon|             NULL|                NULL|         522|     00960|[!@@Additional In...|              I4|             1300.0|         I4|  Solar Yellow| NULL|         NULL|            True|          Jeep|      41.2 in|        12.7 gal| Gasoline|         NULL|66.5 in|                NULL|     177.0|               Black| NULL|        NULL|  NULL|  True|     NULL| 18.3988|166.6 in| 2019-04-06|       YELLOW| 237132766| -66.1582|https://static.ca...|['Quick Order Pac...|      Jeep|        5 seats|    7.0|       Renegade|       NULL|177 hp @ 5,750 RPM|23141.0|   NULL|             0|          2.8|370599|  Flagship Chrysler|       NULL|200 lb-ft @ 1,750...|           A|9-Speed Automatic...|t83804|Latitude FWD|                   NULL|         FWD|   Front-Wheel Drive| 101.2 in|79.6 in|2019|\n",
            "|SALCJ2FX1LH858117|     38.1 in|NULL|      NULL|      NULL|SUV / Crossover| NULL|San Juan|             NULL|                NULL|         207|     00922|[!@@Additional In...|              I4|             2000.0|         I4|  Narvik Black| NULL|         NULL|            True|    Land Rover|      39.1 in|        17.7 gal| Gasoline|         NULL|  68 in|                NULL|     246.0|       Black (Ebony)| NULL|        NULL|  NULL|  True|     NULL| 18.4439|  181 in| 2020-02-15|        BLACK| 265946296| -66.0785|https://static.ca...|['Adaptive Cruise...|Land Rover|        7 seats|    8.0|Discovery Sport|       NULL|246 hp @ 5,500 RPM|46500.0|   NULL|             0|          3.0|389227|Land Rover San Juan|       NULL|269 lb-ft @ 1,400...|           A|9-Speed Automatic...|t86759|       S AWD|                   NULL|         AWD|     All-Wheel Drive| 107.9 in|85.6 in|2020|\n",
            "|JF1VA2M67G9829723|     35.4 in|NULL|      NULL|      NULL|          Sedan| NULL|Guaynabo|             17.0|                NULL|        1233|     00969|                NULL|              H4|             2500.0|         H4|          None|False|        False|            True|          FIAT|      43.3 in|        15.9 gal| Gasoline|        False|58.1 in|                23.0|     305.0|                None|False|        NULL|  NULL| False|     NULL| 18.3467|180.9 in| 2017-04-25|      UNKNOWN| 173473508| -66.1098|                NULL|['Alloy Wheels', ...|    Subaru|        5 seats|   NULL|        WRX STI|        3.0|305 hp @ 6,000 RPM|46995.0|  False|             0|         NULL|370467|   FIAT de San Juan|      False|290 lb-ft @ 4,000...|           M|      6-Speed Manual|t58994|        Base|                   NULL|         AWD|     All-Wheel Drive| 104.3 in|78.9 in|2016|\n",
            "|SALRR2RV0L2433391|     37.6 in|NULL|      NULL|      NULL|SUV / Crossover| NULL|San Juan|             NULL|                NULL|         196|     00922|[!@@Additional In...|              V6|             3000.0|         V6|    Eiger Gray| NULL|         NULL|            True|    Land Rover|        39 in|        23.5 gal| Gasoline|         NULL|  73 in|                NULL|     340.0|Gray (Ebony/Ebony...| NULL|        NULL|  NULL|  True|     NULL| 18.4439|195.1 in| 2020-02-26|         GRAY| 266911050| -66.0785|https://static.ca...|                NULL|Land Rover|        7 seats|   11.0|      Discovery|       NULL|340 hp @ 6,500 RPM|67430.0|   NULL|             0|          3.0|389227|Land Rover San Juan|       NULL|332 lb-ft @ 3,500...|           A|8-Speed Automatic...|t86074|  V6 HSE AWD|                   NULL|         AWD|     All-Wheel Drive|   115 in|87.4 in|2020|\n",
            "|SALCJ2FXXLH862327|     38.1 in|NULL|      NULL|      NULL|SUV / Crossover| NULL|San Juan|             NULL|                NULL|         137|     00922|[!@@Additional In...|              I4|             2000.0|         I4|  Narvik Black| NULL|         NULL|            True|    Land Rover|      39.1 in|        17.7 gal| Gasoline|         NULL|  68 in|                NULL|     246.0|       Black (Ebony)| NULL|        NULL|  NULL|  True|     NULL| 18.4439|  181 in| 2020-04-25|        BLACK| 270957414| -66.0785|https://static.ca...|['Adaptive Cruise...|Land Rover|        7 seats|    7.0|Discovery Sport|       NULL|246 hp @ 5,500 RPM|48880.0|   NULL|             0|          3.0|389227|Land Rover San Juan|       NULL|269 lb-ft @ 1,400...|           A|9-Speed Automatic...|t86759|       S AWD|                   NULL|         AWD|     All-Wheel Drive| 107.9 in|85.6 in|2020|\n",
            "+-----------------+------------+----+----------+----------+---------------+-----+--------+-----------------+--------------------+------------+----------+--------------------+----------------+-------------------+-----------+--------------+-----+-------------+----------------+--------------+-------------+----------------+---------+-------------+-------+--------------------+----------+--------------------+-----+------------+------+------+---------+--------+--------+-----------+-------------+----------+---------+--------------------+--------------------+----------+---------------+-------+---------------+-----------+------------------+-------+-------+--------------+-------------+------+-------------------+-----------+--------------------+------------+--------------------+------+------------+-----------------------+------------+--------------------+---------+-------+----+\n",
            "only showing top 5 rows\n",
            "\n"
          ]
        }
      ],
      "source": [
        "# reading the CSV file into a Spark DataFrame\n",
        "df_spark = spark.read.csv(\"us-used-cars-dataset/used_cars_data.csv\", header=True, inferSchema=True)\n",
        "\n",
        "# checking the schema to see data types of each column\n",
        "df_spark.printSchema()\n",
        "\n",
        "# showing first 5 rows to get a quick look at the data\n",
        "df_spark.show(5)\n"
      ]
    },
    {
      "cell_type": "code",
      "source": [
        "#Ananlysis of dataset\n",
        "# grouping the data by model name and counting how many times each model appears\n",
        "df_spark.groupBy(\"model_name\").count()\\\n",
        "    .orderBy(\"count\", ascending=False)\\\n",
        "    .show(10, truncate=False)  # showing top 10 most common models without cutting off text\n"
      ],
      "metadata": {
        "colab": {
          "base_uri": "https://localhost:8080/"
        },
        "id": "Z0W3834TJpLb",
        "outputId": "a4dcf8ff-f9b0-4c45-e94e-140747b7dbd7"
      },
      "execution_count": null,
      "outputs": [
        {
          "output_type": "stream",
          "name": "stdout",
          "text": [
            "+--------------+-----+\n",
            "|model_name    |count|\n",
            "+--------------+-----+\n",
            "|F-150         |64858|\n",
            "|Escape        |38920|\n",
            "|Camry         |33630|\n",
            "|Rogue         |31678|\n",
            "|Equinox       |30903|\n",
            "|Silverado 1500|30495|\n",
            "|CR-V          |30245|\n",
            "|Accord        |29354|\n",
            "|Civic         |27664|\n",
            "|Explorer      |27629|\n",
            "+--------------+-----+\n",
            "only showing top 10 rows\n",
            "\n"
          ]
        }
      ]
    },
    {
      "cell_type": "code",
      "execution_count": null,
      "metadata": {
        "id": "6Vm59mTVIiFF"
      },
      "outputs": [],
      "source": [
        "from pyspark.sql.functions import col, when, regexp_extract\n",
        "\n",
        "# cleaning and converting column types to the right format for modeling\n",
        "\n",
        "df = df_spark.withColumn(\"price\", col(\"price\").cast(\"double\")) \\\n",
        "       .withColumn(\"horsepower\", col(\"horsepower\").cast(\"double\")) \\\n",
        "       .withColumn(\"mileage\", col(\"mileage\").cast(\"double\")) \\\n",
        "       .withColumn(\"year\", col(\"year\").cast(\"int\")) \\\n",
        "       .withColumn(\"seller_rating\", col(\"seller_rating\").cast(\"double\")) \\\n",
        "       .withColumn(\"daysonmarket\", col(\"daysonmarket\").cast(\"int\"))\\\n",
        "       .withColumn(\"daysonmarket\", col(\"daysonmarket\").cast(\"int\")) \\\n",
        "       .withColumn(\"city_fuel_economy\", col(\"city_fuel_economy\").cast(\"double\")) \\\n",
        "       .withColumn(\"fuel_type\", col(\"fuel_type\").cast(\"string\")) \\\n",
        "       .withColumn(\"transmission_display\", col(\"transmission_display\").cast(\"string\")) \\\n",
        "       .withColumn(\"make_name\", col(\"make_name\").cast(\"string\")) \\\n",
        "       .withColumn(\"model_name\", col(\"model_name\").cast(\"string\"))\\\n",
        "       .withColumn(\"body_type\", col(\"body_type\").cast(\"string\")) \\\n",
        "       .withColumn(\"owner_count\", col(\"owner_count\").cast(\"int\"))\\\n",
        "       .withColumn(\"engine_displacement\", col(\"engine_displacement\").cast(\"double\")) \\\n",
        "       .withColumn(\"engine_type\", col(\"engine_type\").cast(\"string\"))\\\n",
        "       .withColumn(\"maximum_seating\", col(\"maximum_seating\").cast(\"string\")) \\\n",
        "       .withColumn(\"has_accidents\", when(col(\"has_accidents\") == True, 1).otherwise(0)) \\\n",
        "       .withColumn(\"is_new\", when(col(\"is_new\") == True, 1).otherwise(0)) \\\n",
        "       .withColumn(\"power\", regexp_extract(col(\"power\"), r\"(\\d+\\.?\\d*)\", 1).cast(\"double\"))\\\n",
        "       .withColumn(\"seller_rating\", col(\"seller_rating\").cast(\"double\"))\n",
        "\n",
        "\n"
      ]
    },
    {
      "cell_type": "code",
      "source": [
        "# filtering out cars with invalid year values (keeping only between 1950 and 2025)\n",
        "df_valid = df.filter((col(\"year\") >= 1950) & (col(\"year\") <= 2025))\n",
        "\n",
        "# checking average car price for each year after filtering\n",
        "df_valid.groupBy(\"year\").avg(\"price\") \\\n",
        "    .withColumnRenamed(\"avg(price)\", \"average_price\") \\\n",
        "    .orderBy(\"year\") \\\n",
        "    .show()\n"
      ],
      "metadata": {
        "colab": {
          "base_uri": "https://localhost:8080/"
        },
        "id": "JCB_0RVBMAee",
        "outputId": "a297244c-2d07-42ad-83a7-22485babdb4d"
      },
      "execution_count": null,
      "outputs": [
        {
          "output_type": "stream",
          "name": "stdout",
          "text": [
            "+----+------------------+\n",
            "|year|     average_price|\n",
            "+----+------------------+\n",
            "|1950|         39481.375|\n",
            "|1951|27409.217391304348|\n",
            "|1952| 37143.15789473684|\n",
            "|1953| 35288.15151515151|\n",
            "|1954| 45668.40540540541|\n",
            "|1955|46907.183673469386|\n",
            "|1956|           48319.0|\n",
            "|1957|  54964.6186440678|\n",
            "|1958|55459.739130434784|\n",
            "|1959| 97086.05405405405|\n",
            "|1960| 91701.46666666666|\n",
            "|1961| 48248.97959183674|\n",
            "|1962|41492.455882352944|\n",
            "|1963|42403.943181818184|\n",
            "|1964| 41909.96666666667|\n",
            "|1965| 47233.26373626374|\n",
            "|1966|42286.502415458934|\n",
            "|1967|54369.370192307695|\n",
            "|1968| 47119.18674698795|\n",
            "|1969| 59446.71610169492|\n",
            "+----+------------------+\n",
            "only showing top 20 rows\n",
            "\n"
          ]
        }
      ]
    },
    {
      "cell_type": "code",
      "source": [
        "# counting how many cars there are for each make\n",
        "df.groupBy(\"make_name\").count() \\\n",
        "    .orderBy(\"count\", ascending=False) \\\n",
        "    .show(10, truncate=False)\n"
      ],
      "metadata": {
        "colab": {
          "base_uri": "https://localhost:8080/"
        },
        "id": "YrHabckRP-E1",
        "outputId": "92423ec7-fc17-48af-d1b0-87d68e8774c1"
      },
      "execution_count": null,
      "outputs": [
        {
          "output_type": "stream",
          "name": "stdout",
          "text": [
            "+----------+------+\n",
            "|make_name |count |\n",
            "+----------+------+\n",
            "|Ford      |286435|\n",
            "|Chevrolet |188171|\n",
            "|Toyota    |169544|\n",
            "|Honda     |158464|\n",
            "|Nissan    |135681|\n",
            "|Hyundai   |103593|\n",
            "|Jeep      |77151 |\n",
            "|Kia       |75628 |\n",
            "|GMC       |50137 |\n",
            "|Volkswagen|46596 |\n",
            "+----------+------+\n",
            "only showing top 10 rows\n",
            "\n"
          ]
        }
      ]
    },
    {
      "cell_type": "code",
      "source": [
        "# calculating average price for each fuel type\n",
        "df.groupBy(\"fuel_type\").avg(\"price\") \\\n",
        "    .withColumnRenamed(\"avg(price)\", \"average_price\") \\\n",
        "    .orderBy(\"average_price\", ascending=False) \\\n",
        "    .show()\n"
      ],
      "metadata": {
        "colab": {
          "base_uri": "https://localhost:8080/"
        },
        "id": "hFocE4TvR6ve",
        "outputId": "f2f5c7f4-221e-46df-c657-8abdf14a505a"
      },
      "execution_count": null,
      "outputs": [
        {
          "output_type": "stream",
          "name": "stdout",
          "text": [
            "+--------------------+--------------------+\n",
            "|           fuel_type|       average_price|\n",
            "+--------------------+--------------------+\n",
            "|                 V12|        2.81513439E8|\n",
            "|        I5 Biodiesel|       2.810905595E8|\n",
            "|                 V10|       2.802894055E8|\n",
            "|                  I5| 2.799860601666667E8|\n",
            "|           V6 Diesel|2.7956316371428573E8|\n",
            "|        V8 Biodiesel|2.7894465138709676E8|\n",
            "|           V8 Diesel|        2.78801063E8|\n",
            "|           I4 Diesel| 2.783841408333333E8|\n",
            "|I4 Flex Fuel Vehicle|2.7807617478571427E8|\n",
            "|           I6 Diesel| 2.780297184583333E8|\n",
            "|V8 Flex Fuel Vehicle|2.7759364994554454E8|\n",
            "|                  V8| 2.773330427491749E8|\n",
            "|        V6 Biodiesel| 2.770650746666667E8|\n",
            "|                  V6|  2.77012433586651E8|\n",
            "|V6 Flex Fuel Vehicle| 2.769885872847222E8|\n",
            "|           V6 Hybrid|2.7678660428571427E8|\n",
            "|                  I2| 2.760148116666667E8|\n",
            "|                  H4| 2.760054363958333E8|\n",
            "|                  I4|2.7581512267575085E8|\n",
            "|           I4 Hybrid| 2.752482543292683E8|\n",
            "+--------------------+--------------------+\n",
            "only showing top 20 rows\n",
            "\n"
          ]
        }
      ]
    },
    {
      "cell_type": "code",
      "source": [
        "# importing necessary libraries\n",
        "import matplotlib.pyplot as plt  # import statement for pyplot\n",
        "import seaborn as sns\n",
        "# getting top 10 car brands by number of listings\n",
        "top_brands = df.groupBy(\"make_name\").count()\\\n",
        "    .orderBy(\"count\", ascending=False).limit(10).toPandas()\n",
        "\n",
        "# plotting the top brands using seaborn\n",
        "plt.figure(figsize=(10, 5))\n",
        "sns.barplot(data=top_brands, x=\"make_name\", y=\"count\", palette=\"coolwarm\")  # x changed to 'make_name' for clarity\n",
        "plt.title(\"Top 10 Car Brands by Number of Listings\")\n",
        "plt.xticks(rotation=45)  # rotating x labels to avoid overlap\n",
        "plt.tight_layout()\n",
        "plt.show()\n"
      ],
      "metadata": {
        "colab": {
          "base_uri": "https://localhost:8080/",
          "height": 614
        },
        "id": "zx5EZdDKS500",
        "outputId": "3f7e7f8d-42ae-4a3a-d569-47dd60a858eb"
      },
      "execution_count": null,
      "outputs": [
        {
          "output_type": "stream",
          "name": "stderr",
          "text": [
            "<ipython-input-13-7b9587b5465a>:10: FutureWarning: \n",
            "\n",
            "Passing `palette` without assigning `hue` is deprecated and will be removed in v0.14.0. Assign the `x` variable to `hue` and set `legend=False` for the same effect.\n",
            "\n",
            "  sns.barplot(data=top_brands, x=\"make_name\", y=\"count\", palette=\"coolwarm\")  # x changed to 'make_name' for clarity\n"
          ]
        },
        {
          "output_type": "display_data",
          "data": {
            "text/plain": [
              "<Figure size 1000x500 with 1 Axes>"
            ],
            "image/png": "[encoded data removed]"
          },
          "metadata": {}
        }
      ]
    },
    {
      "cell_type": "code",
      "source": [
        "import matplotlib.pyplot as plt\n",
        "import seaborn as sns\n",
        "\n",
        "# Group and collect\n",
        "avg_price_year = df_valid.groupBy(\"year\").avg(\"price\")\\\n",
        "    .withColumnRenamed(\"avg(price)\", \"average_price\")\\\n",
        "    .orderBy(\"year\").toPandas()\n",
        "\n",
        "plt.figure(figsize=(12, 6))\n",
        "sns.lineplot(data=avg_price_year, x=\"year\", y=\"average_price\", marker=\"o\")\n",
        "plt.title(\"Average Car Price by Year\")\n",
        "plt.xlabel(\"Year\")\n",
        "plt.ylabel(\"Average Price\")\n",
        "plt.grid(True)\n",
        "plt.tight_layout()\n",
        "plt.show()\n"
      ],
      "metadata": {
        "colab": {
          "base_uri": "https://localhost:8080/",
          "height": 591
        },
        "id": "ah-i0a1iSQeH",
        "outputId": "aaad105e-5086-440d-9b6d-bd8438d77229"
      },
      "execution_count": null,
      "outputs": [
        {
          "output_type": "display_data",
          "data": {
            "text/plain": [
              "<Figure size 1200x600 with 1 Axes>"
            ],
            "image/png": "[encoded data removed]"
          },
          "metadata": {}
        }
      ]
    },
    {
      "cell_type": "code",
      "execution_count": null,
      "metadata": {
        "id": "Zmfq5MYYImT7"
      },
      "outputs": [],
      "source": [
        "#Trim All String Columns (remove extra spaces)\n",
        "from pyspark.sql.functions import trim\n",
        "\n",
        "df = df.select([trim(col(c)).alias(c) if df.schema[c].dataType.simpleString() == \"string\" else col(c) for c in df.columns])\n"
      ]
    },
    {
      "cell_type": "code",
      "execution_count": null,
      "metadata": {
        "id": "D-VGlLFtIp-w"
      },
      "outputs": [],
      "source": [
        "# list of columns I want to keep and make sure they don’t have missing values\n",
        "selected_columns = [\n",
        "    \"price\",\n",
        "    \"horsepower\",\n",
        "    \"mileage\",\n",
        "    \"year\",\n",
        "    \"seller_rating\",\n",
        "    \"daysonmarket\",\n",
        "    \"fuel_type\",\n",
        "    \"transmission_display\",\n",
        "    \"make_name\",\n",
        "    \"model_name\",\n",
        "    \"owner_count\",\n",
        "    \"body_type\",\n",
        "    \"city_fuel_economy\",\n",
        "    \"engine_displacement\",\n",
        "    \"engine_type\",\n",
        "    \"maximum_seating\",\n",
        "    \"has_accidents\",\n",
        "    \"is_new\",\n",
        "    \"power\"\n",
        "\n",
        "\n",
        "]\n",
        "\n",
        "df = df.dropna(subset=selected_columns)\n"
      ]
    },
    {
      "cell_type": "code",
      "source": [
        "rows = df.count()\n",
        "columns = len(df.columns)\n",
        "print(f\"Rows: {rows}, Columns: {columns}\")\n"
      ],
      "metadata": {
        "colab": {
          "base_uri": "https://localhost:8080/"
        },
        "id": "r9ipscDYDM3j",
        "outputId": "965ec2ce-00da-4698-bf34-f49f8369f21a"
      },
      "execution_count": null,
      "outputs": [
        {
          "output_type": "stream",
          "name": "stdout",
          "text": [
            "Rows: 732319, Columns: 66\n"
          ]
        }
      ]
    },
    {
      "cell_type": "code",
      "execution_count": null,
      "metadata": {
        "colab": {
          "base_uri": "https://localhost:8080/"
        },
        "id": "OGK15BUBIuxd",
        "outputId": "8e6b9d09-8519-4c44-c603-beb7f89bb73f"
      },
      "outputs": [
        {
          "output_type": "stream",
          "name": "stdout",
          "text": [
            "+-----+----------+-------+----+-------------+------------+---------+--------------------+---------+----------+-----------+---------+-----------------+-------------------+-----------+---------------+-------------+------+-----+\n",
            "|price|horsepower|mileage|year|seller_rating|daysonmarket|fuel_type|transmission_display|make_name|model_name|owner_count|body_type|city_fuel_economy|engine_displacement|engine_type|maximum_seating|has_accidents|is_new|power|\n",
            "+-----+----------+-------+----+-------------+------------+---------+--------------------+---------+----------+-----------+---------+-----------------+-------------------+-----------+---------------+-------------+------+-----+\n",
            "|    0|         0|      0|   0|            0|           0|        0|                   0|        0|         0|          0|        0|                0|                  0|          0|              0|            0|     0|    0|\n",
            "+-----+----------+-------+----+-------------+------------+---------+--------------------+---------+----------+-----------+---------+-----------------+-------------------+-----------+---------------+-------------+------+-----+\n",
            "\n"
          ]
        }
      ],
      "source": [
        "from pyspark.sql.functions import sum, col\n",
        "\n",
        "# checking how many nulls are there in each of the selected columns\n",
        "df.select([sum(col(c).isNull().cast(\"int\")).alias(c) for c in selected_columns]).show()\n"
      ]
    },
    {
      "cell_type": "code",
      "execution_count": null,
      "metadata": {
        "id": "7J3-VYooI2c5"
      },
      "outputs": [],
      "source": [
        "from pyspark.ml.feature import StringIndexer, OneHotEncoder, VectorAssembler\n",
        "from pyspark.ml import Pipeline\n",
        "\n",
        "# List of categorical columns\n",
        "categorical_cols = [\"fuel_type\", \"transmission_display\", \"make_name\", \"model_name\",\n",
        "                    \"body_type\", \"city_fuel_economy\", \"engine_type\",\n",
        "                    \"maximum_seating\"]\n",
        "\n",
        "valid_categorical_cols = []\n",
        "for cat_col in categorical_cols:\n",
        "    if df.select(cat_col).distinct().count() > 1:\n",
        "        valid_categorical_cols.append(cat_col)\n",
        "\n",
        "# StringIndexers and OneHotEncoders\n",
        "indexers = [StringIndexer(inputCol=c, outputCol=c + \"_indexed\", handleInvalid='keep') for c in valid_categorical_cols]\n",
        "encoders = [OneHotEncoder(inputCol=c + \"_indexed\", outputCol=c + \"_encoded\") for c in valid_categorical_cols]\n",
        "\n",
        "# Final feature columns (encoded + numerical)\n",
        "numeric_cols = [\"horsepower\", \"mileage\", \"year\", \"seller_rating\", \"daysonmarket\",\n",
        "                \"owner_count\", \"engine_displacement\", \"has_accidents\", \"is_new\",\n",
        "                \"power\", \"price\"]\n",
        "\n",
        "feature_cols = [c + \"_encoded\" for c in valid_categorical_cols] + numeric_cols\n",
        "\n",
        "# VectorAssembler to combine all features\n",
        "assembler = VectorAssembler(inputCols=feature_cols, outputCol=\"features\")\n",
        "\n",
        "# Complete pipeline\n",
        "pipeline = Pipeline(stages=indexers + encoders + [assembler])\n",
        "\n",
        "# Fit and transform\n",
        "model_pipeline = pipeline.fit(df)\n",
        "# Assuming you have a fitted pipeline_model object\n",
        "model_pipeline.write().overwrite().save(\"/content/drive/MyDrive/car_pipeline_model\")\n",
        "\n",
        "df_final = model_pipeline.transform(df)\n"
      ]
    },
    {
      "cell_type": "code",
      "execution_count": null,
      "metadata": {
        "id": "pAXlSWZ2TISZ",
        "colab": {
          "base_uri": "https://localhost:8080/"
        },
        "outputId": "03154c9a-b19e-40af-8d53-976e27bc967b"
      },
      "outputs": [
        {
          "output_type": "stream",
          "name": "stdout",
          "text": [
            "['fuel_type', 'transmission_display', 'make_name', 'model_name', 'body_type', 'city_fuel_economy', 'engine_type', 'maximum_seating']\n"
          ]
        }
      ],
      "source": [
        "print(valid_categorical_cols)"
      ]
    },
    {
      "cell_type": "code",
      "execution_count": null,
      "metadata": {
        "id": "-f6V3hAwI58V",
        "colab": {
          "base_uri": "https://localhost:8080/"
        },
        "outputId": "8a82b975-f432-4752-a007-27bf165d6feb"
      },
      "outputs": [
        {
          "output_type": "stream",
          "name": "stdout",
          "text": [
            "RMSE: 2.2790590292616852\n",
            "R²: 0.999999980073038\n"
          ]
        }
      ],
      "source": [
        "from pyspark.ml.regression import LinearRegression\n",
        "\n",
        "# Use only features and label\n",
        "data = df_final.select(\"features\", \"price\")\n",
        "\n",
        "\n",
        "# Train-test split using df_final instead of df_sample\n",
        "train_data, test_data = df_final.randomSplit([0.8, 0.2], seed=42)\n",
        "\n",
        "# Initialize and train model\n",
        "lr = LinearRegression(labelCol=\"price\", featuresCol=\"features\")\n",
        "lr_model = lr.fit(train_data)\n",
        "\n",
        "# Evaluate\n",
        "predictions = lr_model.evaluate(test_data)\n",
        "print(\"RMSE:\", predictions.rootMeanSquaredError)\n",
        "print(\"R²:\", predictions.r2)"
      ]
    },
    {
      "cell_type": "code",
      "execution_count": null,
      "metadata": {
        "id": "GfMsrjT9Ttt0",
        "colab": {
          "base_uri": "https://localhost:8080/"
        },
        "outputId": "cd82a3b9-aaab-4165-af3d-fe40c87ec801"
      },
      "outputs": [
        {
          "output_type": "stream",
          "name": "stdout",
          "text": [
            "+-------+------------------+------------------------------------------------------------------------------------------------------------------------------------------------------------------------------------------------------+\n",
            "|price  |predicted_price   |features                                                                                                                                                                                              |\n",
            "+-------+------------------+------------------------------------------------------------------------------------------------------------------------------------------------------------------------------------------------------+\n",
            "|19595.0|19595.4265165005  |(1159,[0,7,62,310,1036,1051,1102,1136,1148,1149,1150,1151,1152,1153,1154,1157,1158],[1.0,1.0,1.0,1.0,1.0,1.0,1.0,1.0,201.0,6184.0,2017.0,3.8,9.0,1.0,2400.0,201.0,19595.0])                           |\n",
            "|17778.0|17778.39030199411 |(1159,[0,7,62,310,1036,1051,1102,1136,1148,1149,1150,1151,1152,1153,1154,1157,1158],[1.0,1.0,1.0,1.0,1.0,1.0,1.0,1.0,201.0,19660.0,2017.0,3.9,69.0,1.0,2400.0,201.0,17778.0])                         |\n",
            "|19000.0|19000.321935925687|(1159,[0,7,62,310,1036,1051,1102,1136,1148,1149,1150,1151,1152,1153,1154,1157,1158],[1.0,1.0,1.0,1.0,1.0,1.0,1.0,1.0,201.0,35793.0,2017.0,4.306818181818182,41.0,1.0,2400.0,201.0,19000.0])           |\n",
            "|6295.0 |6296.732748955436 |(1159,[0,11,62,280,1036,1045,1103,1136,1148,1149,1150,1151,1152,1153,1154,1155,1157,1158],[1.0,1.0,1.0,1.0,1.0,1.0,1.0,1.0,258.0,146000.0,2008.0,5.0,17.0,5.0,3200.0,1.0,258.0,6295.0])               |\n",
            "|14490.0|14491.922415597253|(1159,[0,7,62,280,1036,1050,1103,1136,1148,1149,1150,1151,1152,1153,1154,1157,1158],[1.0,1.0,1.0,1.0,1.0,1.0,1.0,1.0,280.0,33954.0,2014.0,3.9473684210526314,174.0,1.0,3500.0,280.0,14490.0])         |\n",
            "|7995.0 |7996.480552133523 |(1159,[0,7,62,280,1036,1050,1103,1136,1148,1149,1150,1151,1152,1153,1154,1157,1158],[1.0,1.0,1.0,1.0,1.0,1.0,1.0,1.0,280.0,177981.0,2012.0,4.0,19.0,2.0,3500.0,280.0,7995.0])                         |\n",
            "|14900.0|14899.208874065504|(1159,[0,7,62,215,1036,1054,1102,1136,1148,1149,1150,1151,1152,1153,1154,1155,1157,1158],[1.0,1.0,1.0,1.0,1.0,1.0,1.0,1.0,206.0,30655.0,2017.0,3.0943396226415096,196.0,2.0,2400.0,1.0,206.0,14900.0])|\n",
            "|19950.0|19948.830333359147|(1159,[0,7,62,215,1036,1053,1102,1136,1148,1149,1150,1151,1152,1153,1154,1157,1158],[1.0,1.0,1.0,1.0,1.0,1.0,1.0,1.0,206.0,42216.0,2018.0,3.388888888888889,19.0,1.0,2400.0,206.0,19950.0])           |\n",
            "|23000.0|22999.050461780243|(1159,[0,7,62,215,1036,1053,1102,1136,1148,1149,1150,1151,1152,1153,1154,1155,1157,1158],[1.0,1.0,1.0,1.0,1.0,1.0,1.0,1.0,206.0,37169.0,2018.0,4.306818181818182,41.0,1.0,2400.0,1.0,206.0,23000.0])  |\n",
            "|25000.0|24999.069742271917|(1159,[0,7,62,215,1036,1053,1102,1136,1148,1149,1150,1151,1152,1153,1154,1155,1157,1158],[1.0,1.0,1.0,1.0,1.0,1.0,1.0,1.0,206.0,28291.0,2018.0,4.306818181818182,41.0,1.0,2400.0,1.0,206.0,25000.0])  |\n",
            "+-------+------------------+------------------------------------------------------------------------------------------------------------------------------------------------------------------------------------------------------+\n",
            "only showing top 10 rows\n",
            "\n"
          ]
        }
      ],
      "source": [
        "from pyspark.sql.functions import col\n",
        "\n",
        "# Get predictions from the test data\n",
        "predicted_df = lr_model.transform(test_data)\n",
        "\n",
        "# Rename the 'prediction' column to 'predicted_price'\n",
        "predicted_df = predicted_df.withColumnRenamed(\"prediction\", \"predicted_price\")\n",
        "\n",
        "# Show the price, predicted price, and features\n",
        "predicted_df.select(\"price\", \"predicted_price\", \"features\").show(10, truncate=False)"
      ]
    },
    {
      "cell_type": "code",
      "source": [
        "from pyspark.ml.regression import RandomForestRegressor\n",
        "from pyspark.ml.evaluation import RegressionEvaluator\n",
        "\n",
        "# Use only features and label (same as before)\n",
        "data = df_final.select(\"features\", \"price\")\n",
        "\n",
        "# Train-test split\n",
        "train_data, test_data = data.randomSplit([0.8, 0.2], seed=42)\n",
        "\n",
        "# Initialize Random Forest Regressor\n",
        "rf = RandomForestRegressor(labelCol=\"price\", featuresCol=\"features\", numTrees=100, seed=42)\n",
        "\n",
        "# Train the model\n",
        "rf_model = rf.fit(train_data)\n",
        "\n",
        "\n",
        "# Make predictions on the test set\n",
        "predictions = rf_model.transform(test_data)\n",
        "\n",
        "# Evaluate predictions\n",
        "evaluator = RegressionEvaluator(labelCol=\"price\", predictionCol=\"prediction\", metricName=\"rmse\")\n",
        "rmse = evaluator.evaluate(predictions)\n",
        "\n",
        "evaluator_r2 = RegressionEvaluator(labelCol=\"price\", predictionCol=\"prediction\", metricName=\"r2\")\n",
        "r2 = evaluator_r2.evaluate(predictions)\n",
        "\n",
        "print(\"Random Forest RMSE:\", rmse)\n",
        "print(\"Random Forest R²:\", r2)\n"
      ],
      "metadata": {
        "id": "5esVqxDJZdtH",
        "colab": {
          "base_uri": "https://localhost:8080/"
        },
        "outputId": "978a0772-ac28-4685-e808-3dfaef93a354"
      },
      "execution_count": null,
      "outputs": [
        {
          "output_type": "stream",
          "name": "stdout",
          "text": [
            "Random Forest RMSE: 7268.39232660335\n",
            "Random Forest R²: 0.8313918256031105\n"
          ]
        }
      ]
    },
    {
      "cell_type": "code",
      "source": [
        "from pyspark.sql.functions import col\n",
        "\n",
        "# Get predictions from the test dataset using the trained linear regression model\n",
        "predicted_df = rf_model.transform(test_data)\n",
        "\n",
        "# Rename the 'prediction' column to 'predicted_price' for clarity\n",
        "predicted_df = predicted_df.withColumnRenamed(\"prediction\", \"predicted_price\")\n",
        "\n",
        "# Display the original price, the predicted price, and feature vector for comparison\n",
        "predicted_df.select(\"price\", \"predicted_price\", \"features\").show(10, truncate=False)\n"
      ],
      "metadata": {
        "id": "N5i7GFtvaLc3",
        "colab": {
          "base_uri": "https://localhost:8080/"
        },
        "outputId": "6ac150a6-5a04-41b8-aa33-1dc4e8b5aa88"
      },
      "execution_count": null,
      "outputs": [
        {
          "output_type": "stream",
          "name": "stdout",
          "text": [
            "+-------+------------------+-------------------------------------------------------------------------------------------------------------------------------------------------------------------------------------------+\n",
            "|price  |predicted_price   |features                                                                                                                                                                                   |\n",
            "+-------+------------------+-------------------------------------------------------------------------------------------------------------------------------------------------------------------------------------------+\n",
            "|46590.0|44117.77455033981 |(1159,[0,7,41,99,1037,1044,1103,1136,1148,1149,1150,1151,1152,1153,1154,1157,1158],[1.0,1.0,1.0,1.0,1.0,1.0,1.0,1.0,375.0,35062.0,2018.0,3.6444444444444444,48.0,1.0,3500.0,375.0,46590.0])|\n",
            "|39995.0|39392.439370473505|(1159,[0,7,41,99,1037,1044,1103,1136,1148,1149,1150,1151,1152,1153,1154,1157,1158],[1.0,1.0,1.0,1.0,1.0,1.0,1.0,1.0,375.0,52047.0,2017.0,4.237333333333333,5.0,1.0,3500.0,375.0,39995.0])  |\n",
            "|16990.0|18063.281368692624|(1159,[0,7,41,99,1037,1044,1103,1139,1148,1149,1150,1151,1152,1153,1154,1157,1158],[1.0,1.0,1.0,1.0,1.0,1.0,1.0,1.0,365.0,159379.0,2015.0,4.734177215189874,13.0,1.0,3500.0,325.0,16990.0])|\n",
            "|40995.0|39402.22256993546 |(1159,[0,7,41,99,1037,1044,1103,1139,1148,1149,1150,1151,1152,1153,1154,1157,1158],[1.0,1.0,1.0,1.0,1.0,1.0,1.0,1.0,375.0,28312.0,2017.0,4.625,4.0,1.0,3500.0,375.0,40995.0])              |\n",
            "|34495.0|36145.204797308856|(1159,[0,7,41,99,1037,1044,1103,1139,1148,1149,1150,1151,1152,1153,1154,1157,1158],[1.0,1.0,1.0,1.0,1.0,1.0,1.0,1.0,375.0,49165.0,2017.0,4.625,55.0,1.0,3500.0,375.0,34495.0])             |\n",
            "|33493.0|36145.204797308856|(1159,[0,7,41,99,1037,1045,1103,1139,1148,1149,1150,1151,1152,1153,1154,1157,1158],[1.0,1.0,1.0,1.0,1.0,1.0,1.0,1.0,375.0,40381.0,2017.0,4.625,68.0,1.0,3500.0,375.0,33493.0])             |\n",
            "|39995.0|39878.86792276858 |(1159,[0,7,41,99,1037,1046,1103,1139,1148,1149,1150,1151,1152,1153,1154,1157,1158],[1.0,1.0,1.0,1.0,1.0,1.0,1.0,1.0,375.0,9658.0,2019.0,4.705882352941177,25.0,1.0,3500.0,395.0,39995.0])  |\n",
            "|39775.0|39794.74859292574 |(1159,[0,7,41,99,1037,1046,1103,1139,1148,1149,1150,1151,1152,1153,1154,1157,1158],[1.0,1.0,1.0,1.0,1.0,1.0,1.0,1.0,375.0,14461.0,2018.0,4.5,50.0,1.0,3500.0,395.0,39775.0])               |\n",
            "|49995.0|44431.31151108461 |(1159,[0,7,41,99,1037,1049,1103,1136,1148,1149,1150,1151,1152,1153,1154,1157,1158],[1.0,1.0,1.0,1.0,1.0,1.0,1.0,1.0,375.0,13355.0,2020.0,4.237333333333333,32.0,1.0,3500.0,375.0,49995.0]) |\n",
            "|43572.0|44026.98071103955 |(1159,[0,7,41,99,1037,1049,1103,1139,1148,1149,1150,1151,1152,1153,1154,1157,1158],[1.0,1.0,1.0,1.0,1.0,1.0,1.0,1.0,375.0,4803.0,2020.0,4.098039215686274,20.0,1.0,3500.0,395.0,43572.0])  |\n",
            "+-------+------------------+-------------------------------------------------------------------------------------------------------------------------------------------------------------------------------------------+\n",
            "only showing top 10 rows\n",
            "\n"
          ]
        }
      ]
    },
    {
      "cell_type": "code",
      "source": [
        "from pyspark.sql import Row\n",
        "\n",
        "# Two sample rows with all selected features\n",
        "sample_rows = [\n",
        "    Row(price=20000.0, horsepower=150.0, mileage=30000.0, year=2018, seller_rating=4.5, daysonmarket=45,\n",
        "        fuel_type=\"gasoline\", transmission_display=\"Automatic\", make_name=\"Toyota\", model_name=\"Camry\",\n",
        "        owner_count=1, body_type=\"Sedan\", city_fuel_economy=28.0, engine_displacement=2.5,\n",
        "        engine_type=\"I4\", maximum_seating=\"5\", has_accidents=0, is_new=0, power=150.0),\n",
        "\n",
        "    Row(price=35000.0, horsepower=300.0, mileage=10000.0, year=2021, seller_rating=4.9, daysonmarket=10,\n",
        "        fuel_type=\"electric\", transmission_display=\"Automatic\", make_name=\"Tesla\", model_name=\"Model 3\",\n",
        "        owner_count=0, body_type=\"Sedan\", city_fuel_economy=130.0, engine_displacement=0.0,\n",
        "        engine_type=\"Electric\", maximum_seating=\"5\", has_accidents=0, is_new=1, power=283.0),\n",
        "\n",
        "    Row(price=18000.0, horsepower=140.0, mileage=45000.0, year=2017, seller_rating=4.2, daysonmarket=60,\n",
        "        fuel_type=\"gasoline\", transmission_display=\"Manual\", make_name=\"Honda\", model_name=\"Civic\",\n",
        "        owner_count=2, body_type=\"Coupe\", city_fuel_economy=32.0, engine_displacement=2.0,\n",
        "        engine_type=\"I4\", maximum_seating=\"5\", has_accidents=1, is_new=0, power=140.0),\n",
        "\n",
        "    Row(price=27000.0, horsepower=200.0, mileage=20000.0, year=2019, seller_rating=4.6, daysonmarket=30,\n",
        "        fuel_type=\"hybrid\", transmission_display=\"CVT\", make_name=\"Ford\", model_name=\"Fusion\",\n",
        "        owner_count=1, body_type=\"Sedan\", city_fuel_economy=42.0, engine_displacement=2.0,\n",
        "        engine_type=\"I4 Hybrid\", maximum_seating=\"5\", has_accidents=0, is_new=0, power=188.0),\n",
        "\n",
        "    Row(price=45000.0, horsepower=400.0, mileage=5000.0, year=2022, seller_rating=4.8, daysonmarket=15,\n",
        "        fuel_type=\"gasoline\", transmission_display=\"Automatic\", make_name=\"BMW\", model_name=\"M340i\",\n",
        "        owner_count=0, body_type=\"Sedan\", city_fuel_economy=23.0, engine_displacement=3.0,\n",
        "        engine_type=\"I6 Turbo\", maximum_seating=\"5\", has_accidents=0, is_new=1, power=382.0)\n",
        "]\n",
        "\n",
        "\n"
      ],
      "metadata": {
        "id": "QQWe-1XGB9KI"
      },
      "execution_count": null,
      "outputs": []
    },
    {
      "cell_type": "code",
      "source": [
        "test_df = spark.createDataFrame(sample_rows)\n",
        "test_df.show()\n"
      ],
      "metadata": {
        "id": "t2HZRmRSB-DD",
        "colab": {
          "base_uri": "https://localhost:8080/"
        },
        "outputId": "cb10f1f4-2090-4867-9e86-0de21693e111"
      },
      "execution_count": null,
      "outputs": [
        {
          "output_type": "stream",
          "name": "stdout",
          "text": [
            "+-------+----------+-------+----+-------------+------------+---------+--------------------+---------+----------+-----------+---------+-----------------+-------------------+-----------+---------------+-------------+------+-----+\n",
            "|  price|horsepower|mileage|year|seller_rating|daysonmarket|fuel_type|transmission_display|make_name|model_name|owner_count|body_type|city_fuel_economy|engine_displacement|engine_type|maximum_seating|has_accidents|is_new|power|\n",
            "+-------+----------+-------+----+-------------+------------+---------+--------------------+---------+----------+-----------+---------+-----------------+-------------------+-----------+---------------+-------------+------+-----+\n",
            "|20000.0|     150.0|30000.0|2018|          4.5|          45| gasoline|           Automatic|   Toyota|     Camry|          1|    Sedan|             28.0|                2.5|         I4|              5|            0|     0|150.0|\n",
            "|35000.0|     300.0|10000.0|2021|          4.9|          10| electric|           Automatic|    Tesla|   Model 3|          0|    Sedan|            130.0|                0.0|   Electric|              5|            0|     1|283.0|\n",
            "|18000.0|     140.0|45000.0|2017|          4.2|          60| gasoline|              Manual|    Honda|     Civic|          2|    Coupe|             32.0|                2.0|         I4|              5|            1|     0|140.0|\n",
            "|27000.0|     200.0|20000.0|2019|          4.6|          30|   hybrid|                 CVT|     Ford|    Fusion|          1|    Sedan|             42.0|                2.0|  I4 Hybrid|              5|            0|     0|188.0|\n",
            "|45000.0|     400.0| 5000.0|2022|          4.8|          15| gasoline|           Automatic|      BMW|     M340i|          0|    Sedan|             23.0|                3.0|   I6 Turbo|              5|            0|     1|382.0|\n",
            "+-------+----------+-------+----+-------------+------------+---------+--------------------+---------+----------+-----------+---------+-----------------+-------------------+-----------+---------------+-------------+------+-----+\n",
            "\n"
          ]
        }
      ]
    },
    {
      "cell_type": "code",
      "source": [
        "from pyspark.ml import PipelineModel\n",
        "\n",
        "# Load the pipeline from the exact path used above\n",
        "pipeline_model = PipelineModel.load(\"/content/drive/MyDrive/car_pipeline_model\")\n",
        "\n",
        "# Apply it to your test data\n",
        "transformed_data = pipeline_model.transform(test_df) # Changed variable name to transformed_data\n",
        "\n",
        "# Use lr_model to get predictions\n",
        "predictions = lr_model.transform(transformed_data) # Use rf_model to get prediction from transformed data\n",
        "\n",
        "# Show the prediction results\n",
        "predictions.select(\"prediction\").show()"
      ],
      "metadata": {
        "id": "4cVteSCgC8YJ",
        "colab": {
          "base_uri": "https://localhost:8080/"
        },
        "outputId": "f23cc539-638b-4e26-a142-2b6e18889daa"
      },
      "execution_count": null,
      "outputs": [
        {
          "output_type": "stream",
          "name": "stdout",
          "text": [
            "+------------------+\n",
            "|        prediction|\n",
            "+------------------+\n",
            "|20005.250246420746|\n",
            "|35004.382633256224|\n",
            "|18002.757193885252|\n",
            "|  26998.5413637882|\n",
            "| 45007.45525431106|\n",
            "+------------------+\n",
            "\n"
          ]
        }
      ]
    },
    {
      "cell_type": "code",
      "source": [
        "from pyspark.ml import PipelineModel\n",
        "\n",
        "# Load the pipeline from the exact path used above\n",
        "pipeline_model = PipelineModel.load(\"/content/drive/MyDrive/car_pipeline_model\")\n",
        "\n",
        "# Apply it to your test data\n",
        "transformed_data = pipeline_model.transform(test_df) # Changed variable name to transformed_data\n",
        "\n",
        "# Use rf_model to get predictions\n",
        "predictions = rf_model.transform(transformed_data) # Use rf_model to get prediction from transformed data\n",
        "\n",
        "# Show the prediction results\n",
        "predictions.select(\"prediction\").show()"
      ],
      "metadata": {
        "id": "n10sKapVXQfM",
        "colab": {
          "base_uri": "https://localhost:8080/"
        },
        "outputId": "8d8fb8d7-0689-46ae-aafa-92a54dcfbba9"
      },
      "execution_count": null,
      "outputs": [
        {
          "output_type": "stream",
          "name": "stdout",
          "text": [
            "+------------------+\n",
            "|        prediction|\n",
            "+------------------+\n",
            "| 18495.47898147659|\n",
            "| 33916.95058571793|\n",
            "| 17150.91140283755|\n",
            "|28405.195611899337|\n",
            "|44266.272482344924|\n",
            "+------------------+\n",
            "\n"
          ]
        }
      ]
    }
  ],
  "metadata": {
    "colab": {
      "provenance": [],
      "gpuType": "A100",
      "machine_shape": "hm"
    },
    "kernelspec": {
      "display_name": "Python 3",
      "name": "python3"
    },
    "language_info": {
      "name": "python"
    },
    "accelerator": "GPU"
  },
  "nbformat": 4,
  "nbformat_minor": 0
}